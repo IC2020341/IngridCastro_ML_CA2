{
 "cells": [
  {
   "cell_type": "markdown",
   "id": "30111d70-cafe-4b88-b970-7b31df2c72d9",
   "metadata": {},
   "source": [
    "# CCT College Dublin\n",
    "\n",
    "## Assessment Cover Page\n",
    "\n",
    "**Module Title**: Machine Learning for AI  \n",
    "**Assessment Title**: ML_CA1  \n",
    "**Lecturer Name**: David McQuaid  \n",
    "**Student Full Name**: Ingrid Menezes Castro  \n",
    "**Student Number**: 2020341  \n",
    "**Assessment Due Date**: 31/05/2024  \n",
    "**Date of Submission**: 31/05/2024  "
   ]
  },
  {
   "cell_type": "markdown",
   "id": "685ad163-5bb2-4391-859e-cfa3ad018639",
   "metadata": {},
   "source": [
    "**GITHUB LINK**: https://github.com/IC2020341/IngridCastro_ML_CA2"
   ]
  },
  {
   "cell_type": "markdown",
   "id": "4a36c094-fe0a-446f-9980-40e02a6ad2a9",
   "metadata": {},
   "source": [
    "## Declaration\n",
    "\n",
    "<div style=\"border: 1px solid black; padding: 10px;\">\n",
    "By submitting this assessment, I confirm that I have read the CCT policy on Academic Misconduct and understand the implications of submitting work that is not my own or does not appropriately reference material taken from a third party or other source. I declare it to be my own work and that all material from third parties has been appropriately referenced. I further confirm that this work has not previously been submitted for assessment by myself or someone else in CCT College Dublin or any other higher education institution.\n",
    "</div>"
   ]
  },
  {
   "cell_type": "markdown",
   "id": "9a03535b-0367-4c67-b199-acbf36794843",
   "metadata": {},
   "source": [
    "-------------"
   ]
  },
  {
   "cell_type": "code",
   "execution_count": 2,
   "id": "cd64be87-6bbe-4c3d-8705-4a7acd6da170",
   "metadata": {},
   "outputs": [],
   "source": [
    "# Imports\n",
    "import pandas as pd\n",
    "import numpy as np \n",
    "import seaborn as sns\n",
    "import matplotlib.pyplot as plt"
   ]
  },
  {
   "cell_type": "code",
   "execution_count": null,
   "id": "f047b3d6-1021-48c8-b78e-a910d2a3c9d0",
   "metadata": {},
   "outputs": [],
   "source": []
  }
 ],
 "metadata": {
  "kernelspec": {
   "display_name": "Python 3 (ipykernel)",
   "language": "python",
   "name": "python3"
  },
  "language_info": {
   "codemirror_mode": {
    "name": "ipython",
    "version": 3
   },
   "file_extension": ".py",
   "mimetype": "text/x-python",
   "name": "python",
   "nbconvert_exporter": "python",
   "pygments_lexer": "ipython3",
   "version": "3.11.7"
  }
 },
 "nbformat": 4,
 "nbformat_minor": 5
}
